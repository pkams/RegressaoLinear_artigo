{
 "cells": [
  {
   "cell_type": "markdown",
   "metadata": {
    "colab": {},
    "colab_type": "code",
    "id": "OU3l87w0rO1V"
   },
   "source": [
    "# Regressão Linear, o primeiro passo no Machine Learning"
   ]
  },
  {
   "cell_type": "markdown",
   "metadata": {},
   "source": [
    "Após divulgar meu primeiro artigo, que falava da biblioteca **sktime**, alguns amigos chegaram com os seguintes comentários:\n",
    "\n",
    "    - Muito legal seu artigo, achei bem escrito mas não entendi absolutamente nada.\n",
    "    \n",
    "    - Parabéns pelo artigo! Entendi nada, mas gostei.\n",
    "    \n",
    "Estes comentários me fizeram refletir sobre a dificuldade que encontramos para explicar para alguém que não é da área ou não está em contato com a tecnologia que vivenciamos diariamente, o que exatamente fazemos.\n",
    "\n",
    "Decidi começar uma série de posts que vão exemplificar e demonstrar diversos algoritmos e modelos preditivos para que todos possam entender seu funcionamento. \n",
    "\n",
    "A idéia é abordar da forma mais explicativa possível estas técnicas.\n",
    "\n",
    "Para iniciar, vamos de **Regressão Linear**, ou **o primeiro passo para entrar no mundo do Machine Learning**."
   ]
  },
  {
   "cell_type": "markdown",
   "metadata": {},
   "source": [
    "# Entendendo a Regressão Linear\n",
    "\n",
    "A **Regressão Linear** é um modelo preditivo que busca predizer um determinado valor **Y** baseado em um determinado valor **X**.\n",
    "\n",
    "O que isso quer dizer na prática?\n",
    "\n",
    "Supondo que temos uma casa de tamanho **X** (em m²), queremos saber qual o seu preço **y**. Como poderiamos fazer isso?  \n",
    "\n",
    "Este é um exemplo comum de exemplificação da Regressão Linear. Se buscarmos traçar uma relação dos tamanhos das casas com seus preços encontraremos uma relação **linear**, com ambas as váriaveis crescendo ou decrescendo de forma similar. \n",
    "\n",
    "<img src=\"1.png\">\n",
    "\n",
    "O objetivo então é encontrarmos uma base de dados que tenha estes **valores** de tamanho e preço de diversas casas. \n",
    "\n",
    "Ao plotarmos estes valores, encontramos algo parecido com isso:\n",
    "\n",
    "<img src=\"2.png\">\n",
    "\n",
    "A **Regressão Linear** é uma técnica que permite traçar uma linha que represente a **relação** entre a váriavel **X** (entrada) e a váriavel **y** (saída).\n",
    "\n",
    "A partir disto, podemos mensurar um preço para um tamanho novo, baseando-se da relação estabelecida por esta linha.\n",
    "\n",
    "<img src=\"3.png\">\n",
    "\n",
    "Caso você ainda se lembre das aulas de matemática do fundamental, existe uma equação para reta, determinada por:\n",
    "\n",
    "y = **a** + **b**X\n",
    "\n",
    "A **Regressão Linear** funciona obtendo estes valores de **a** e **b** que irão representar a reta em questão (baseada nos dados inseridos).\n",
    "\n",
    "Obviamente, há limitações físicas e matemáticas envolvidas no processo.  Esta equação gerada não seria válida para **todos** os valores possíveis de **tamanho**, uma casa que exceda os menores e maiores valores do banco de dados obtido poderiam não ter suas representações corretas se utilizados os valores diretamente na equação.\n",
    "\n",
    "Entretanto, podemos dizer que valores de entrada que estejam entre os valores obtidos pelo banco de dados podem ser **representativos** com um `certo grau de certeza`.\n",
    "\n",
    "# Ok, já sei o que é Regressão Linear, mas como funciona o processo?\n",
    "\n",
    "Normalmente, é nesta parte que apresentamos os **cálculos matemáticos** pesados. Como nosso objetivo é simplificar, vejamos a próxima imagem.\n",
    "\n",
    "<img src=\"4.png\">\n",
    "\n",
    "Supondo que temos 3 pontos no espaço, ou seja, 3 exemplos de dados. \n",
    "Na imagem, podemos perceber que são testados **3 linhas** possíveis para os pontos, ao mudarmos a posição da linha temos diferentes valores de **erro**.\n",
    "\n",
    "Nosso primeiro objetivo é encontrarmos **a direção com menor erro** e então **buscar a linha que melhor represente a relação dos dados**.\n",
    "\n",
    "Basicamente, é isso!\n",
    "Todo o processo de Regressão Linear pode ser **resumido** e **simplificado** desta forma.\n",
    "- Tendo um certo conjunto de dados com valores numéricos de saída e entrada.\n",
    "- Calcula-se a linha que melhor representa a relação entre os dados.\n",
    "- Com esta relação é possível predizer valores novos. \n",
    "\n",
    "Apesar de ser possível fazer todo esse cálculo na mão, hoje temos diversos programas e ferramentas para fazer este trabalho.\n",
    "Todo esse cálculo é feito **internamente**, e o resultado é gerado em questão de segundos.\n",
    "\n",
    "# E se tivermos mais de uma característica? \n",
    "\n",
    "Todo este processo de aplica da mesma forma para ambas as questões.\n",
    "Em caso de duas características (X1 e X2) deixamos de ter uma **reta** e passamos a ter uma **plano**. No nosso exemplo da casa, poderia ser o **número de banheiros** ou **quantidade de andares**. \n",
    "Chamamos isto de **Regressão Linear Múltipla**.\n",
    "\n",
    "<img src=\"5.png\">\n",
    "\n",
    "Agora deve surgir a seguinte pergunta em sua cabeça: **E se for mais de duas?** \n",
    "A resposta é: **Funciona da mesmissima forma**. \n",
    "A única diferença é que deixamos de ter uma representação gráfica tão simples, sendo dificil até mesmo imaginar um gráfico assim.\n",
    "Na matemática chamamos este resultado de **hiperplano multidimensional**, e essa relação pode ser válida para **qualquer** quantidade de características. \n",
    "\n",
    "Poderíamos criar uma relação entre **preço**, **número de quartos**, **quantidade de banheiros**, **se tem piscina ou não**, **se tem garagem ou não**, **metragem do quintal**... O céu é o limite. \n",
    "Nossa única limitação é a capacidade computacional. \n",
    "Também existem algumas regrinhas de limpeza dos dados, em que eliminamos dados que **falem da mesma coisa**, por exemplo características de tamanho de terreno podem ser resumidas, não é necessário falar do tamanho lateral e frontal se já temos a área em m². Outro exemplo seria uma váriavel que fale **se tem ou não garagem** se já tivermos uma váriavel que **resuma a quantidade de garagens**. \n",
    "\n",
    "Lembra da fórmula que é gerada para a linha? \n",
    "\n",
    "y = **a** + **b1**X1 + **b2**X1 ... **bn**Xn\n",
    "\n",
    "Uma **Regressão Múltipla** geraria uma fórmula com um peso **b** para cada característica **X**. Dependendo da **força** da váriavel na obtenção do **valor de y** o coeficiente **b** terá valores maiores ou menores. \n",
    "Poderíamos ter um coeficiente maior para **tamanho da casa** comparado a **metragem do quintal** por exemplo.\n",
    "\n",
    "<img src=\"5.1.png\">\n",
    "\n",
    "\n",
    "# Ok, e se a relação entre as váriaveis não for exatamente linear?\n",
    "\n",
    "Nossa relação entre as características pode não ser linear, aí para acharmos a equação ideal precisamos utilizar equações não lineares (não mais o y = a + bx) ou então um conjunto de operações entre as características (como múltiplicações e potencializações entre elas) que irão aproximar a equação da forma dos dados, nos gerando X², X³ e por aí vai. \n",
    "\n",
    "Lembra das aulas de matemática do ensino médio, em que equações do segundo grau geravam uma curva e equações do terceiro grau geravam uma onda? A idéia é a mesma aqui.\n",
    "\n",
    "<img src=\"6.jpg\">\n",
    "\n",
    "\n",
    "# Ok, e como podemos verificar se nossa reta está adequada ao modelo?\n",
    "\n",
    "Você vê este valor de R² do exemplo anterior?\n",
    "Segundo wikipédia:\n",
    "\n",
    "    O R² ou coeficiente de determinação, é uma medida de ajuste de um modelo estatístico linear generalizado, como a regressão linear simples ou múltipla, aos valores observados de uma variável aleatória.\n",
    "    O R² varia entre 0 e 1, por vezes sendo expresso em termos percentuais. Nesse caso, expressa a quantidade da variância dos dados que é explicada pelo modelo linear. Assim, quanto maior o R², mais explicativo é o modelo linear, ou seja, melhor ele se ajusta à amostra. Por exemplo, um R² = 0,8234 significa que o modelo linear explica 82,34% da variância da variável dependente a partir do regressores (variáveis independentes) incluídas naquele modelo linear.\n",
    "    \n",
    "Podemos **resumir** o R² como a métrica que determinará a **acurácia** do modelo.\n",
    "\n",
    "A seguir, vamos demonstrar este processo na linguagem **Python** utilizando a biblioteca **Sklearn**.  "
   ]
  },
  {
   "cell_type": "markdown",
   "metadata": {},
   "source": [
    "Primeiramente vamos importar as bibliotecas necessárias para aplicação do modelo:"
   ]
  },
  {
   "cell_type": "code",
   "execution_count": 4,
   "metadata": {},
   "outputs": [],
   "source": [
    "# Importando bibliotecas importantes:\n",
    "\n",
    "# Para manipulação dos dados\n",
    "import pandas as pd\n",
    "import numpy as np\n",
    "\n",
    "# Para utilizar modelo de regressão e dividir os dados em treino e teste\n",
    "from sklearn.linear_model import LinearRegression\n",
    "from sklearn.model_selection import train_test_split\n",
    "\n",
    "# Para visualização dos dados\n",
    "import matplotlib.pyplot as plt\n",
    "\n",
    "# Setando configurações dos gráficos (opcional)\n",
    "plt.style.use('ggplot')"
   ]
  },
  {
   "cell_type": "markdown",
   "metadata": {
    "colab": {},
    "colab_type": "code",
    "id": "9RNgFQl9s8Qc"
   },
   "source": [
    "### Contextualização:\n",
    "*Supondo uma fábrica em que temos um número **Y** de <u>peças defeituosas</u> a cada vez que temos um número **X** de <u>paradas</u>. <br>\n",
    "O número de peças defeituosas costuma ser computado apenas no fechamento final do dia.<br>\n",
    "Um analista de processos decidiu verificar se estas duas váriaveis tem **relação** e se é possível traçar uma reta para prever **futuros resultados** de peças defeituosas sem precisar esperar o fechamento, para agilizar o processo e automatizar futuras tomadas de decisão.*\n",
    "\n",
    "Importamos os dados e demonstramos a seguir:"
   ]
  },
  {
   "cell_type": "code",
   "execution_count": 5,
   "metadata": {
    "colab": {
     "base_uri": "https://localhost:8080/",
     "height": 195
    },
    "colab_type": "code",
    "id": "-vygo4tErYkd",
    "outputId": "4ccb7a6a-f13b-4953-e199-ac19fbafcc1c"
   },
   "outputs": [
    {
     "data": {
      "text/html": [
       "<div>\n",
       "<style scoped>\n",
       "    .dataframe tbody tr th:only-of-type {\n",
       "        vertical-align: middle;\n",
       "    }\n",
       "\n",
       "    .dataframe tbody tr th {\n",
       "        vertical-align: top;\n",
       "    }\n",
       "\n",
       "    .dataframe thead th {\n",
       "        text-align: right;\n",
       "    }\n",
       "</style>\n",
       "<table border=\"1\" class=\"dataframe\">\n",
       "  <thead>\n",
       "    <tr style=\"text-align: right;\">\n",
       "      <th></th>\n",
       "      <th>Numero de peças defeituosas</th>\n",
       "      <th>Paradas na linha</th>\n",
       "    </tr>\n",
       "  </thead>\n",
       "  <tbody>\n",
       "    <tr>\n",
       "      <th>0</th>\n",
       "      <td>16</td>\n",
       "      <td>5</td>\n",
       "    </tr>\n",
       "    <tr>\n",
       "      <th>1</th>\n",
       "      <td>21</td>\n",
       "      <td>8</td>\n",
       "    </tr>\n",
       "    <tr>\n",
       "      <th>2</th>\n",
       "      <td>15</td>\n",
       "      <td>4</td>\n",
       "    </tr>\n",
       "    <tr>\n",
       "      <th>3</th>\n",
       "      <td>20</td>\n",
       "      <td>6</td>\n",
       "    </tr>\n",
       "    <tr>\n",
       "      <th>4</th>\n",
       "      <td>20</td>\n",
       "      <td>8</td>\n",
       "    </tr>\n",
       "  </tbody>\n",
       "</table>\n",
       "</div>"
      ],
      "text/plain": [
       "   Numero de peças defeituosas  Paradas na linha\n",
       "0                           16                 5\n",
       "1                           21                 8\n",
       "2                           15                 4\n",
       "3                           20                 6\n",
       "4                           20                 8"
      ]
     },
     "execution_count": 5,
     "metadata": {},
     "output_type": "execute_result"
    }
   ],
   "source": [
    "# Importando os dados\n",
    "df = pd.read_csv('regressaoSimples.csv')\n",
    "# o .head() vai mostrar as primeiras 'n' linhas para podermos visualizar o formato dos dados.\n",
    "df.head()"
   ]
  },
  {
   "cell_type": "markdown",
   "metadata": {},
   "source": [
    "É possível observar diferentes informações sobre os dados:"
   ]
  },
  {
   "cell_type": "code",
   "execution_count": 6,
   "metadata": {},
   "outputs": [
    {
     "name": "stdout",
     "output_type": "stream",
     "text": [
      "<class 'pandas.core.frame.DataFrame'>\n",
      "RangeIndex: 25 entries, 0 to 24\n",
      "Data columns (total 2 columns):\n",
      " #   Column                       Non-Null Count  Dtype\n",
      "---  ------                       --------------  -----\n",
      " 0   Numero de peças defeituosas  25 non-null     int64\n",
      " 1   Paradas na linha             25 non-null     int64\n",
      "dtypes: int64(2)\n",
      "memory usage: 528.0 bytes\n"
     ]
    }
   ],
   "source": [
    "# Para informações gerais do dataset podemos usar:\n",
    "df.info()"
   ]
  },
  {
   "cell_type": "markdown",
   "metadata": {},
   "source": [
    "Neste caso temos 25 linhas, ou seja, 25 exemplos.\n",
    "Temos 2 colunas, o número de peças defeituosas será nosso y e o número de paradas nosso X."
   ]
  },
  {
   "cell_type": "code",
   "execution_count": 7,
   "metadata": {},
   "outputs": [],
   "source": [
    "# Devemos associar as váriaveis X e y de acordo com suas respectivas colunas\n",
    "# O .values.reshape(-1,1) garantirá que nossos dados sairão no formato de array\n",
    "X = df['Numero de peças defeituosas'].values.reshape(-1,1)\n",
    "y = df['Paradas na linha'].values.reshape(-1,1)"
   ]
  },
  {
   "cell_type": "markdown",
   "metadata": {},
   "source": [
    "Repartiremos nossos dados em 2, pegando 70% para **criar** nosso modelo, será esta porção dos dados que criará o modelo parar gerar a ''linha''. \n",
    "Os restantes 30% serão usados para avaliar o modelo, sabendo as respostas ''reais'' podemos avaliar o quão bom nosso modelo seria para resultados que **ainda não foram vistos**."
   ]
  },
  {
   "cell_type": "code",
   "execution_count": 8,
   "metadata": {},
   "outputs": [],
   "source": [
    "# Dividindo em treino e teste\n",
    "# Uma divisão comum é 70% para treino e 30% para teste.\n",
    "# Nosso random_state garante que aja repetibilidade do experimento (se eu e você colocarmos mesmo número nossa divisão sairá igual).\n",
    "X_train, X_test, y_train, y_test = train_test_split(X, y, test_size=0.3, random_state=42)"
   ]
  },
  {
   "cell_type": "markdown",
   "metadata": {},
   "source": [
    "Podemos visualizar nossos dados, segmentando entre treino e teste:"
   ]
  },
  {
   "cell_type": "code",
   "execution_count": 9,
   "metadata": {
    "colab": {},
    "colab_type": "code",
    "id": "ENNo6F1FrwvL"
   },
   "outputs": [
    {
     "data": {
      "image/png": "[encoded data removed]",
      "text/plain": [
       "<Figure size 432x288 with 1 Axes>"
      ]
     },
     "metadata": {},
     "output_type": "display_data"
    }
   ],
   "source": [
    "# Visualizando dados\n",
    "plt.scatter(X_train, y_train, color='red', label='Dados de treino')\n",
    "plt.scatter(X_test, y_test, color='green', label='Dados de teste')\n",
    "\n",
    "# Ajuste da imagem\n",
    "plt.legend()\n",
    "plt.show()"
   ]
  },
  {
   "cell_type": "markdown",
   "metadata": {},
   "source": [
    "Então chamamos nosso algoritmo, neste caso usaremos o `LinearRegression` e então passaremos nossos dados de treino (os 70%) para criar o modelo. Com ele podemos predizer valores para os nossos dados, que chamaremos de `y_pred`. "
   ]
  },
  {
   "cell_type": "code",
   "execution_count": 10,
   "metadata": {},
   "outputs": [],
   "source": [
    "# Instanciamos o algoritmo\n",
    "linreg = LinearRegression()"
   ]
  },
  {
   "cell_type": "code",
   "execution_count": 11,
   "metadata": {},
   "outputs": [
    {
     "data": {
      "text/plain": [
       "LinearRegression()"
      ]
     },
     "execution_count": 11,
     "metadata": {},
     "output_type": "execute_result"
    }
   ],
   "source": [
    "# Aplicamos ele nos dados de treino para gerar o modelo\n",
    "# A partir daqui ele APRENDE os coeficientes da equação.\n",
    "linreg.fit(X_train, y_train)"
   ]
  },
  {
   "cell_type": "code",
   "execution_count": 12,
   "metadata": {},
   "outputs": [],
   "source": [
    "# Predizendo valores baseado no X de treino\n",
    "y_pred = linreg.predict(X_train)"
   ]
  },
  {
   "cell_type": "markdown",
   "metadata": {},
   "source": [
    "O resultado da linha criada pode ser vista conforme gráfico abaixo."
   ]
  },
  {
   "cell_type": "code",
   "execution_count": 13,
   "metadata": {},
   "outputs": [
    {
     "data": {
      "image/png": "[encoded data removed]",
      "text/plain": [
       "<Figure size 432x288 with 1 Axes>"
      ]
     },
     "metadata": {},
     "output_type": "display_data"
    }
   ],
   "source": [
    "# Verificando a linha resultante\n",
    "\n",
    "# Visualizando dados\n",
    "plt.scatter(X_train, y_train, color='red', label='Dados de teste')\n",
    "plt.scatter(X_test, y_test, color='green', label='Dados de treino')\n",
    "\n",
    "# Visualizando linha gerada pela função\n",
    "plt.plot(X_train, y_pred, color='blue', label = 'Linha gerada pelo fit')\n",
    "\n",
    "# Ajuste da imagem\n",
    "plt.legend()\n",
    "plt.show()"
   ]
  },
  {
   "cell_type": "markdown",
   "metadata": {},
   "source": [
    "Podemos observar que a linha foi ajustada de maneira adequada aos dados de treino.\n",
    "O ideal é termos mais dados para evitar que tenhamos erro tão grande como pode ser visto nos ultimos dois dados de teste.\n",
    "A tendência é o erro decrescer conforme adicionamos mais dados, e também reduzir a porcentagem de dados que precisaremos para teste. \n",
    "Se temos 1 bilhão de linhas, não precisamos testar 30% dos dados, poderiamos testar 0,1% dos dados e eles já seriam representativos.\n",
    "\n",
    "Abaixo, verificamos os coeficientes gerados pela equação da linha: "
   ]
  },
  {
   "cell_type": "code",
   "execution_count": 14,
   "metadata": {},
   "outputs": [
    {
     "name": "stdout",
     "output_type": "stream",
     "text": [
      "Nosso [a]:  [-2.62791633]\n",
      "Nosso [b]:  [[0.47747385]]\n",
      "Nossa função gerada foi: Y = -2.627916331456154 + 0.4774738535800483*X\n"
     ]
    }
   ],
   "source": [
    "# Observando os coeficientes da função\n",
    "print('Nosso [a]: ', linreg.intercept_)\n",
    "print('Nosso [b]: ', linreg.coef_)\n",
    "print('Nossa função gerada foi: Y = {} + {}*X'.format(linreg.intercept_[0], linreg.coef_[0][0]))"
   ]
  },
  {
   "cell_type": "markdown",
   "metadata": {},
   "source": [
    "Utilizando esta equação podemos obter respostas para qualquer dado novo."
   ]
  },
  {
   "cell_type": "code",
   "execution_count": 15,
   "metadata": {},
   "outputs": [
    {
     "name": "stdout",
     "output_type": "stream",
     "text": [
      "Nosso R² para dados de treino foi:  0.88\n",
      "Nosso R² para dados de teste foi:  0.89\n"
     ]
    }
   ],
   "source": [
    "# Observamos a acurácia de treino:\n",
    "print(\"Nosso R² para dados de treino foi: \", np.round(linreg.score(X_train, y_train),2))\n",
    "print(\"Nosso R² para dados de teste foi: \", np.round(linreg.score(X_test, y_test),2))"
   ]
  },
  {
   "cell_type": "markdown",
   "metadata": {},
   "source": [
    "Nosso modelo obteve acurácia de 88% tanto em treino quanto em teste.\n",
    "Um resultado considerável mesmo tendo poucos dados.\n",
    "\n",
    "Se tivessemos uma **Regressão Linear Múltipla** o processo seria o mesmo, com a diferença de que o modelo receberia um **X** com mais colunas (não mais apenas uma)."
   ]
  },
  {
   "cell_type": "markdown",
   "metadata": {},
   "source": [
    "# Regressão Quadrática"
   ]
  },
  {
   "cell_type": "markdown",
   "metadata": {},
   "source": [
    "Replicaremos os mesmos passos acima, porém para uma regressão em que uma **linha** não é o mais adequado.\n",
    "### **Contextualização**:\n",
    "*Você trabalha em uma indústria que produz **café descafeinado**, a porcentagem de cafeína é uma medida importante e tem de ser menor que um certo nível para ser vendido como café descafeinado.  \n",
    "O café é descafeínado por um processo conhecido como **''extração''**, ao plotarmos a relação do número de vezes que um lote de café passou pelo processo de extração em relação a sua influência para porcentagem de cafeína.*"
   ]
  },
  {
   "cell_type": "code",
   "execution_count": 56,
   "metadata": {},
   "outputs": [
    {
     "data": {
      "text/html": [
       "<div>\n",
       "<style scoped>\n",
       "    .dataframe tbody tr th:only-of-type {\n",
       "        vertical-align: middle;\n",
       "    }\n",
       "\n",
       "    .dataframe tbody tr th {\n",
       "        vertical-align: top;\n",
       "    }\n",
       "\n",
       "    .dataframe thead th {\n",
       "        text-align: right;\n",
       "    }\n",
       "</style>\n",
       "<table border=\"1\" class=\"dataframe\">\n",
       "  <thead>\n",
       "    <tr style=\"text-align: right;\">\n",
       "      <th></th>\n",
       "      <th>Caf%</th>\n",
       "      <th>Extr</th>\n",
       "    </tr>\n",
       "  </thead>\n",
       "  <tbody>\n",
       "    <tr>\n",
       "      <th>0</th>\n",
       "      <td>0.259</td>\n",
       "      <td>1</td>\n",
       "    </tr>\n",
       "    <tr>\n",
       "      <th>1</th>\n",
       "      <td>0.241</td>\n",
       "      <td>2</td>\n",
       "    </tr>\n",
       "    <tr>\n",
       "      <th>2</th>\n",
       "      <td>0.145</td>\n",
       "      <td>3</td>\n",
       "    </tr>\n",
       "    <tr>\n",
       "      <th>3</th>\n",
       "      <td>0.179</td>\n",
       "      <td>3</td>\n",
       "    </tr>\n",
       "    <tr>\n",
       "      <th>4</th>\n",
       "      <td>0.162</td>\n",
       "      <td>3</td>\n",
       "    </tr>\n",
       "  </tbody>\n",
       "</table>\n",
       "</div>"
      ],
      "text/plain": [
       "    Caf%  Extr\n",
       "0  0.259     1\n",
       "1  0.241     2\n",
       "2  0.145     3\n",
       "3  0.179     3\n",
       "4  0.162     3"
      ]
     },
     "execution_count": 56,
     "metadata": {},
     "output_type": "execute_result"
    }
   ],
   "source": [
    "# Importando os dados\n",
    "df = pd.read_excel('regressaoMultipla.xlsx')\n",
    "# o .head() vai mostrar as primeiras 'n' linhas para podermos visualizar o formato dos dados.\n",
    "df.head()"
   ]
  },
  {
   "cell_type": "code",
   "execution_count": 57,
   "metadata": {},
   "outputs": [
    {
     "name": "stdout",
     "output_type": "stream",
     "text": [
      "<class 'pandas.core.frame.DataFrame'>\n",
      "RangeIndex: 25 entries, 0 to 24\n",
      "Data columns (total 2 columns):\n",
      " #   Column  Non-Null Count  Dtype  \n",
      "---  ------  --------------  -----  \n",
      " 0   Caf%    25 non-null     float64\n",
      " 1   Extr    25 non-null     int64  \n",
      "dtypes: float64(1), int64(1)\n",
      "memory usage: 528.0 bytes\n"
     ]
    }
   ],
   "source": [
    "# Para informações gerais do dataset podemos usar:\n",
    "df.info()"
   ]
  },
  {
   "cell_type": "markdown",
   "metadata": {},
   "source": [
    "Novamente 25 exemplos. Nosso **Extr** é a váriavel de quantidade de vezes que o café passou pela extração, portanto será nosso **X**. Nosso **Caf%** é a porcentagem de café, portanto será nossa váriavel alvo **y**.  \n",
    "Vamos dividir os dados e plotarmos para ver o que temos:"
   ]
  },
  {
   "cell_type": "code",
   "execution_count": 97,
   "metadata": {},
   "outputs": [
    {
     "data": {
      "image/png": "[encoded data removed]",
      "text/plain": [
       "<Figure size 432x288 with 1 Axes>"
      ]
     },
     "metadata": {},
     "output_type": "display_data"
    }
   ],
   "source": [
    "# Instanciando as váriaveis X e y\n",
    "X = df['Extr'].values.reshape(-1,1)\n",
    "y = df['Caf%'].values.reshape(-1,1)\n",
    "\n",
    "# Dividindo em treino e teste\n",
    "X_train, X_test, y_train, y_test = train_test_split(X, y, test_size=0.3, random_state=13)\n",
    "\n",
    "# Visualizando dados\n",
    "plt.scatter(X_train, y_train, color='purple', label='Dados de treino')\n",
    "plt.scatter(X_test, y_test, color='blue', label='Dados de teste')\n",
    "\n",
    "# Ajuste da imagem\n",
    "plt.legend()\n",
    "plt.show()"
   ]
  },
  {
   "cell_type": "markdown",
   "metadata": {},
   "source": [
    "Podemos perceber que uma linha não será exatamente funcional neste exemplo, mas vamos prosseguir e testar para visualizar os efeitos."
   ]
  },
  {
   "cell_type": "code",
   "execution_count": 100,
   "metadata": {},
   "outputs": [
    {
     "data": {
      "image/png": "[encoded data removed]",
      "text/plain": [
       "<Figure size 432x288 with 1 Axes>"
      ]
     },
     "metadata": {},
     "output_type": "display_data"
    }
   ],
   "source": [
    "# === Modelagem da Regressão ===\n",
    "\n",
    "# Instanciamos o algoritmo\n",
    "linreg = LinearRegression()\n",
    "\n",
    "# Aplicamos ele nos dados de treino para gerar o modelo\n",
    "# A partir daqui ele APRENDE os coeficientes da equação.\n",
    "linreg.fit(X_train, y_train)\n",
    "\n",
    "# Predizendo valores baseado no X de treino\n",
    "y_pred = linreg.predict(X_train)\n",
    "\n",
    "# Verificando a linha resultante\n",
    "\n",
    "# === Visualização ===\n",
    "\n",
    "# Visualizando dados\n",
    "plt.scatter(X_train, y_train, color='purple', label='Dados de teste')\n",
    "plt.scatter(X_test, y_test, color='blue', label='Dados de treino')\n",
    "\n",
    "# Visualizando linha gerada pela função\n",
    "plt.plot(X_train, y_pred, color='red', label = 'Linha gerada pelo fit')\n",
    "\n",
    "# Ajuste da imagem\n",
    "plt.legend()\n",
    "plt.show()"
   ]
  },
  {
   "cell_type": "markdown",
   "metadata": {},
   "source": [
    "Para completar nossa análise podemos usar a métrica R² conforme exemplo anterior:"
   ]
  },
  {
   "cell_type": "code",
   "execution_count": 83,
   "metadata": {},
   "outputs": [
    {
     "name": "stdout",
     "output_type": "stream",
     "text": [
      "Nosso R² para dados de treino foi:  0.79\n",
      "Nosso R² para dados de teste foi:  0.72\n"
     ]
    }
   ],
   "source": [
    "# Observamos a acurácia de treino:\n",
    "print(\"Nosso R² para dados de treino foi: \", np.round(linreg.score(X_train, y_train),2))\n",
    "print(\"Nosso R² para dados de teste foi: \", np.round(linreg.score(X_test, y_test),2))"
   ]
  },
  {
   "cell_type": "markdown",
   "metadata": {},
   "source": [
    "Será que podemos melhorar nosso modelo? Vejamos. \n",
    "\n",
    "Aplicamos uma biblioteca que criará váriaveis de dimensões maiores (X², X³... etc).\n",
    "\n",
    "Nosso objetivo é aplicar um transformador para mudar nossa equação para uma equação quadrática, possibilitando uma curva ao invés de uma linha.\n",
    "\n",
    "Aplicando a função para grau 2 nosso resultado será de três colunas: \n",
    "- Grau 0: Todos valores são 1.\n",
    "- Grau 1: A coluna original.\n",
    "- Grau 2: Os valores originais ao quadrado."
   ]
  },
  {
   "cell_type": "code",
   "execution_count": 92,
   "metadata": {},
   "outputs": [
    {
     "data": {
      "text/html": [
       "<div>\n",
       "<style scoped>\n",
       "    .dataframe tbody tr th:only-of-type {\n",
       "        vertical-align: middle;\n",
       "    }\n",
       "\n",
       "    .dataframe tbody tr th {\n",
       "        vertical-align: top;\n",
       "    }\n",
       "\n",
       "    .dataframe thead th {\n",
       "        text-align: right;\n",
       "    }\n",
       "</style>\n",
       "<table border=\"1\" class=\"dataframe\">\n",
       "  <thead>\n",
       "    <tr style=\"text-align: right;\">\n",
       "      <th></th>\n",
       "      <th>X0</th>\n",
       "      <th>X1</th>\n",
       "      <th>X2</th>\n",
       "    </tr>\n",
       "  </thead>\n",
       "  <tbody>\n",
       "    <tr>\n",
       "      <th>0</th>\n",
       "      <td>1.0</td>\n",
       "      <td>1.0</td>\n",
       "      <td>1.0</td>\n",
       "    </tr>\n",
       "    <tr>\n",
       "      <th>1</th>\n",
       "      <td>1.0</td>\n",
       "      <td>2.0</td>\n",
       "      <td>4.0</td>\n",
       "    </tr>\n",
       "    <tr>\n",
       "      <th>2</th>\n",
       "      <td>1.0</td>\n",
       "      <td>3.0</td>\n",
       "      <td>9.0</td>\n",
       "    </tr>\n",
       "    <tr>\n",
       "      <th>3</th>\n",
       "      <td>1.0</td>\n",
       "      <td>3.0</td>\n",
       "      <td>9.0</td>\n",
       "    </tr>\n",
       "    <tr>\n",
       "      <th>4</th>\n",
       "      <td>1.0</td>\n",
       "      <td>3.0</td>\n",
       "      <td>9.0</td>\n",
       "    </tr>\n",
       "  </tbody>\n",
       "</table>\n",
       "</div>"
      ],
      "text/plain": [
       "    X0   X1   X2\n",
       "0  1.0  1.0  1.0\n",
       "1  1.0  2.0  4.0\n",
       "2  1.0  3.0  9.0\n",
       "3  1.0  3.0  9.0\n",
       "4  1.0  3.0  9.0"
      ]
     },
     "execution_count": 92,
     "metadata": {},
     "output_type": "execute_result"
    }
   ],
   "source": [
    "# Aplicamos uma biblioteca que criará váriaveis de dimensões maiores (X², X³... etc).\n",
    "from sklearn.preprocessing import PolynomialFeatures\n",
    "# Instanciando o transformandor e colocando o valor do grau que desejamos (neste caso 2)\n",
    "poly = PolynomialFeatures(2)\n",
    "# Aplicamos no nosso X\n",
    "X_2 = poly.fit_transform(X)\n",
    "\n",
    "pd.DataFrame(X_2, columns=['X0', 'X1', 'X2']).head()"
   ]
  },
  {
   "cell_type": "code",
   "execution_count": 93,
   "metadata": {},
   "outputs": [],
   "source": [
    "# Dividindo em treino e teste\n",
    "# Dessa vez escolheremos uma divisão 80/20.\n",
    "# Nosso random_state garante que aja repetibilidade do experimento (se eu e você colocarmos mesmo número nossa divisão sairá igual).\n",
    "X_train, X_test, y_train, y_test = train_test_split(X_2, y, test_size=0.3, random_state=13)"
   ]
  },
  {
   "cell_type": "code",
   "execution_count": 94,
   "metadata": {},
   "outputs": [
    {
     "data": {
      "image/png": "[encoded data removed]",
      "text/plain": [
       "<Figure size 432x288 with 1 Axes>"
      ]
     },
     "metadata": {},
     "output_type": "display_data"
    }
   ],
   "source": [
    "# === Modelagem da Regressão ===\n",
    "\n",
    "# Instanciamos o algoritmo\n",
    "linreg = LinearRegression()\n",
    "\n",
    "# Aplicamos ele nos dados de treino para gerar o modelo\n",
    "# A partir daqui ele APRENDE os coeficientes da equação.\n",
    "linreg.fit(X_train, y_train)\n",
    "\n",
    "# Predizendo valores baseado no X de treino\n",
    "y_pred = linreg.predict(X_2)\n",
    "\n",
    "# Verificando a linha resultante\n",
    "\n",
    "# === Visualização ===\n",
    "\n",
    "# Visualizando dados\n",
    "plt.scatter(X_train[:,1], y_train, color='red', label='Dados de teste')\n",
    "plt.scatter(X_test[:,1], y_test, color='green', label='Dados de treino')\n",
    "\n",
    "# Visualizando linha gerada pela função\n",
    "plt.plot(X_2[:,1], y_pred, color='blue', label = 'Linha gerada pelo fit')\n",
    "\n",
    "# Ajuste da imagem\n",
    "plt.legend()\n",
    "plt.show()"
   ]
  },
  {
   "cell_type": "code",
   "execution_count": 95,
   "metadata": {},
   "outputs": [
    {
     "name": "stdout",
     "output_type": "stream",
     "text": [
      "Nosso R² para dados de treino foi:  0.93\n",
      "Nosso R² para dados de teste foi:  0.88\n"
     ]
    }
   ],
   "source": [
    "# Observando as métricas novamente:\n",
    "print(\"Nosso R² para dados de treino foi: \", np.round(linreg.score(X_train, y_train),2))\n",
    "print(\"Nosso R² para dados de teste foi: \", np.round(linreg.score(X_test, y_test),2))"
   ]
  },
  {
   "cell_type": "markdown",
   "metadata": {},
   "source": [
    "Podemos perceber que quando a linha não é exatamente o modelo mais adequado podemos transformar a forma da equação através de **transformadores polinomiais**, alterando o formato da equação para uma curva (ou até mesmo ondas!!!).\n",
    "\n",
    "Devemos nos atentar ao fato de termos pouquíssimos dados para este tipo de análise, o ideal seria termos um número maior para poder testar melhor as diferentes transformações possíveis.\n",
    "\n",
    "Poderiamos testar um grau maior? Claro!!! \n",
    "\n",
    "Mas começariamos a criar um outro problema que é chamado de **Overfitting** (sobreajuste). \n",
    "\n",
    "Mas isso fica para um próximo artigo, espero que você que está lendo este artigo tenha entendido as aplicações e o funcionamento de uma **Regressão Linear**.\n",
    "\n",
    "A idéia é prosseguir com este formato de artigo para outros algoritmos e outros conceitos de **Ciência de dados** e **Machine Learning**.\n",
    "\n",
    "Obrigado!!!\n",
    "\n",
    "Fontes para criação deste artigo:\n",
    "- Udacity - Introduction to ML: https://www.udacity.com/course/intro-to-machine-learning--ud120 (Python / Curso FREE / Sem certificado)\n",
    "- Coursera - Data Analysis for LSS: https://www.coursera.org/learn/data-analytics-for-lean-six-sigma (Minitab / Curso FREE / Certificado pago)\n",
    "- Artigo: http://chanakya.ca/2018/05/13/linear-regression/\n",
    "- Artigo: https://www.scielo.br/scielo.php?pid=S1808-16572014000300264&script=sci_arttext_plus&tlng=pt\n",
    "- https://pt.wikipedia.org/wiki/Coeficiente_de_determina%C3%A7%C3%A3o"
   ]
  },
  {
   "cell_type": "code",
   "execution_count": null,
   "metadata": {},
   "outputs": [],
   "source": []
  },
  {
   "cell_type": "code",
   "execution_count": null,
   "metadata": {},
   "outputs": [],
   "source": []
  }
 ],
 "metadata": {
  "colab": {
   "name": "Ex_RegressaoLinearSimples.ipynb",
   "provenance": []
  },
  "kernelspec": {
   "display_name": "Python 3",
   "language": "python",
   "name": "python3"
  },
  "language_info": {
   "codemirror_mode": {
    "name": "ipython",
    "version": 3
   },
   "file_extension": ".py",
   "mimetype": "text/x-python",
   "name": "python",
   "nbconvert_exporter": "python",
   "pygments_lexer": "ipython3",
   "version": "3.7.6"
  }
 },
 "nbformat": 4,
 "nbformat_minor": 1
}
